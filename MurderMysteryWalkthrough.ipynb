{
 "cells": [
  {
   "cell_type": "markdown",
   "metadata": {},
   "source": [
    "## Este es el paso a paso para principiantes"
   ]
  },
  {
   "cell_type": "markdown",
   "metadata": {},
   "source": [
    "Comenzamos importando la libreria de pandas"
   ]
  },
  {
   "cell_type": "code",
   "metadata": {
    "ExecuteTime": {
     "end_time": "2024-06-05T18:33:31.306748Z",
     "start_time": "2024-06-05T18:33:31.302773Z"
    }
   },
   "source": [
    "import pandas as pd\n",
    "pd.set_option('display.max_colwidth', None) #Esto es para poder ver todo el texto en una columna"
   ],
   "outputs": [],
   "execution_count": 255
  },
  {
   "cell_type": "markdown",
   "metadata": {},
   "source": [
    "Cargamos el dataset que utilizaremos durante la investigacion"
   ]
  },
  {
   "cell_type": "code",
   "metadata": {
    "ExecuteTime": {
     "end_time": "2024-06-05T18:33:31.567829Z",
     "start_time": "2024-06-05T18:33:31.489637Z"
    }
   },
   "source": [
    "crime_scene_report     = pd.read_csv(\"./datasets/Crime Scene report.csv\")\n",
    "drivers_license        = pd.read_csv(\"./datasets/Drivers license.csv\")\n",
    "facebook_event_checkin = pd.read_csv(\"./datasets/facebook_event_checkin.csv\")\n",
    "getfitnow_checkin      = pd.read_csv(\"./datasets/GetFitNow check in.csv\")\n",
    "getfitnow_members      = pd.read_csv(\"./datasets/GetFitNow members.csv\")\n",
    "income                 = pd.read_csv(\"./datasets/income.csv\")\n",
    "interview              = pd.read_csv(\"./datasets/Interviews.csv\")\n",
    "person                 = pd.read_csv(\"./datasets/Person.csv\")"
   ],
   "outputs": [],
   "execution_count": 256
  },
  {
   "cell_type": "markdown",
   "metadata": {},
   "source": [
    "Veamos un poco como estan conformados estos dataframes"
   ]
  },
  {
   "cell_type": "code",
   "metadata": {
    "ExecuteTime": {
     "end_time": "2024-06-05T18:33:31.578487Z",
     "start_time": "2024-06-05T18:33:31.569833Z"
    }
   },
   "source": [
    "# Usamos .info() para ver una descripcion general del dataset, como sus tipos de datos en cada columna y si presenta nulos\n",
    "crime_scene_report.info()"
   ],
   "outputs": [
    {
     "name": "stdout",
     "output_type": "stream",
     "text": [
      "<class 'pandas.core.frame.DataFrame'>\n",
      "RangeIndex: 1228 entries, 0 to 1227\n",
      "Data columns (total 4 columns):\n",
      " #   Column       Non-Null Count  Dtype \n",
      "---  ------       --------------  ----- \n",
      " 0   Date         1228 non-null   object\n",
      " 1   Type         1228 non-null   object\n",
      " 2   Description  939 non-null    object\n",
      " 3   City         1228 non-null   object\n",
      "dtypes: object(4)\n",
      "memory usage: 38.5+ KB\n"
     ]
    }
   ],
   "execution_count": 257
  },
  {
   "cell_type": "markdown",
   "metadata": {},
   "source": [
    "Con la funcion *.head*(n:int default=5) podemos visualizar las primeras n filas "
   ]
  },
  {
   "cell_type": "code",
   "metadata": {
    "ExecuteTime": {
     "end_time": "2024-06-05T18:33:31.589154Z",
     "start_time": "2024-06-05T18:33:31.579497Z"
    }
   },
   "source": [
    "crime_scene_report.head(3)"
   ],
   "outputs": [
    {
     "data": {
      "text/plain": [
       "         Date       Type Description        City\n",
       "0  2017-01-07  smuggling         NaN    Savannah\n",
       "1  2017-01-11     murder         NaN  Springdale\n",
       "2  2017-01-12  smuggling         NaN   Melbourne"
      ],
      "text/html": [
       "<div>\n",
       "<style scoped>\n",
       "    .dataframe tbody tr th:only-of-type {\n",
       "        vertical-align: middle;\n",
       "    }\n",
       "\n",
       "    .dataframe tbody tr th {\n",
       "        vertical-align: top;\n",
       "    }\n",
       "\n",
       "    .dataframe thead th {\n",
       "        text-align: right;\n",
       "    }\n",
       "</style>\n",
       "<table border=\"1\" class=\"dataframe\">\n",
       "  <thead>\n",
       "    <tr style=\"text-align: right;\">\n",
       "      <th></th>\n",
       "      <th>Date</th>\n",
       "      <th>Type</th>\n",
       "      <th>Description</th>\n",
       "      <th>City</th>\n",
       "    </tr>\n",
       "  </thead>\n",
       "  <tbody>\n",
       "    <tr>\n",
       "      <th>0</th>\n",
       "      <td>2017-01-07</td>\n",
       "      <td>smuggling</td>\n",
       "      <td>NaN</td>\n",
       "      <td>Savannah</td>\n",
       "    </tr>\n",
       "    <tr>\n",
       "      <th>1</th>\n",
       "      <td>2017-01-11</td>\n",
       "      <td>murder</td>\n",
       "      <td>NaN</td>\n",
       "      <td>Springdale</td>\n",
       "    </tr>\n",
       "    <tr>\n",
       "      <th>2</th>\n",
       "      <td>2017-01-12</td>\n",
       "      <td>smuggling</td>\n",
       "      <td>NaN</td>\n",
       "      <td>Melbourne</td>\n",
       "    </tr>\n",
       "  </tbody>\n",
       "</table>\n",
       "</div>"
      ]
     },
     "execution_count": 258,
     "metadata": {},
     "output_type": "execute_result"
    }
   ],
   "execution_count": 258
  },
  {
   "cell_type": "markdown",
   "metadata": {},
   "source": [
    "Algunas funciones **utiles** que podrian ayudarte en el proceso:\n",
    "1. **_`.sort_values()`_**: Esta función se utiliza para ordenar un DataFrame o una Serie según los valores de una o más columnas. Se puede especificar el orden ascendente o descendente. Es útil para organizar los datos de manera coherente y facilitar la búsqueda o el análisis de patrones.\n",
    "\n",
    "2. **_`.str.contains()`_**: Esta función se utiliza para buscar patrones de texto en una Serie. Permite verificar si una cadena de caracteres contiene un patrón específico. Es útil para realizar filtrados basados en patrones de texto, como buscar palabras clave en un conjunto de datos.\n",
    "\n",
    "3. **_`.groupby()`_**: Esta función se utiliza para agrupar los datos según una o más columnas en un DataFrame. Se puede combinar con otras funciones de agregación, como _`.sum()`_, _`.mean()`_, _`.count()`_, etc., para realizar cálculos en los grupos resultantes. Es útil para realizar análisis estadísticos o resúmenes de datos basados en categorías.\n",
    "\n",
    "4. **_`.merge()`_**: Esta función se utiliza para combinar dos DataFrames en función de una o más columnas comunes. Puede realizar una unión interna (inner join), una unión externa (outer join), una unión izquierda (left join) o una unión derecha (right join), según los datos que se deseen mantener. Es útil para combinar conjuntos de datos relacionados en un solo DataFrame para su análisis\n",
    "\n",
    "5. **_`.isin()`_**: Esta función se utiliza para verificar si los valores de una columna o Serie están presentes en una lista de valores específica."
   ]
  },
  {
   "cell_type": "markdown",
   "metadata": {},
   "source": [
    "## `Comenzamos la investigacion`"
   ]
  },
  {
   "cell_type": "markdown",
   "metadata": {},
   "source": [
    "### Un crimen ha ocurrido y el detective necesita tu ayuda. \n"
   ]
  },
  {
   "cell_type": "markdown",
   "metadata": {},
   "source": [
    "#### Pero antes, veamos un diagrama de esquema para ver como estan conectados todos los dataframes\n",
    "\n",
    "<img src=\"./_src/schemeboard.png\">"
   ]
  },
  {
   "cell_type": "markdown",
   "metadata": {},
   "source": [
    "\n",
    "### Te entregaron el informe del lugar del crimen, pero de alguna manera lo perdiste. Recordas vagamente que el crimen fue un ​asesinato​ que ocurrió en algún momento el ​15 de enero de 2018​ y que tuvo lugar en ​Pandas City​. **Te recomiendo comenzar por recuperar el informe correspondiente de su respectivo dataframe**"
   ]
  },
  {
   "cell_type": "markdown",
   "metadata": {},
   "source": [
    "Vamos a empezar viendo los asesinatos (_murder_) que ocurrieron en la fecha 2018-01-15 (_15 de enero de 2018_) en el dataset `crime_scene_report`"
   ]
  },
  {
   "cell_type": "code",
   "metadata": {
    "ExecuteTime": {
     "end_time": "2024-06-05T18:33:31.599851Z",
     "start_time": "2024-06-05T18:33:31.590166Z"
    }
   },
   "source": [
    "# Hay varias maneras de seleccionar una fila en especifico. Una de ellas es la siguiente:\n",
    "informe = crime_scene_report[(crime_scene_report[\"Date\"] == \"2018-01-15\") & \n",
    "                            (crime_scene_report[\"Type\"] == \"murder\")]\n",
    "informe"
   ],
   "outputs": [
    {
     "data": {
      "text/plain": [
       "           Date    Type  \\\n",
       "674  2018-01-15  murder   \n",
       "675  2018-01-15  murder   \n",
       "781  2018-01-15  murder   \n",
       "\n",
       "                                                                                                                                                                                   Description  \\\n",
       "674                                                                                                                                                          Life? Dont talk to me about life.   \n",
       "675                                                                                                                                        Mama, I killed a man, put a gun against his head...   \n",
       "781  Security footage shows that there were 2 witnesses. The first witness lives at the last house on \"Northwestern Dr\". The second witness, named Annabel, lives somewhere on \"Franklin Ave\".   \n",
       "\n",
       "            City  \n",
       "674       Albany  \n",
       "675         Reno  \n",
       "781  Pandas City  "
      ],
      "text/html": [
       "<div>\n",
       "<style scoped>\n",
       "    .dataframe tbody tr th:only-of-type {\n",
       "        vertical-align: middle;\n",
       "    }\n",
       "\n",
       "    .dataframe tbody tr th {\n",
       "        vertical-align: top;\n",
       "    }\n",
       "\n",
       "    .dataframe thead th {\n",
       "        text-align: right;\n",
       "    }\n",
       "</style>\n",
       "<table border=\"1\" class=\"dataframe\">\n",
       "  <thead>\n",
       "    <tr style=\"text-align: right;\">\n",
       "      <th></th>\n",
       "      <th>Date</th>\n",
       "      <th>Type</th>\n",
       "      <th>Description</th>\n",
       "      <th>City</th>\n",
       "    </tr>\n",
       "  </thead>\n",
       "  <tbody>\n",
       "    <tr>\n",
       "      <th>674</th>\n",
       "      <td>2018-01-15</td>\n",
       "      <td>murder</td>\n",
       "      <td>Life? Dont talk to me about life.</td>\n",
       "      <td>Albany</td>\n",
       "    </tr>\n",
       "    <tr>\n",
       "      <th>675</th>\n",
       "      <td>2018-01-15</td>\n",
       "      <td>murder</td>\n",
       "      <td>Mama, I killed a man, put a gun against his head...</td>\n",
       "      <td>Reno</td>\n",
       "    </tr>\n",
       "    <tr>\n",
       "      <th>781</th>\n",
       "      <td>2018-01-15</td>\n",
       "      <td>murder</td>\n",
       "      <td>Security footage shows that there were 2 witnesses. The first witness lives at the last house on \"Northwestern Dr\". The second witness, named Annabel, lives somewhere on \"Franklin Ave\".</td>\n",
       "      <td>Pandas City</td>\n",
       "    </tr>\n",
       "  </tbody>\n",
       "</table>\n",
       "</div>"
      ]
     },
     "execution_count": 259,
     "metadata": {},
     "output_type": "execute_result"
    }
   ],
   "execution_count": 259
  },
  {
   "cell_type": "markdown",
   "metadata": {},
   "source": [
    "Podemos ver que ocurrieron 3 asesinatos en la misma fecha pero en distintas ciudades, ¿se te ocurre alguna manera de modificar el codigo tal que aparezca solamente la que nos interesa para el caso?"
   ]
  },
  {
   "cell_type": "code",
   "metadata": {
    "ExecuteTime": {
     "end_time": "2024-06-05T18:33:31.609721Z",
     "start_time": "2024-06-05T18:33:31.600855Z"
    }
   },
   "source": [
    "#agregando (crime_scene_report[\"City\"] == \"Pandas City\")\n",
    "informe = crime_scene_report[(crime_scene_report[\"Date\"] == \"2018-01-15\") & \n",
    "                            (crime_scene_report[\"Type\"] == \"murder\") & (crime_scene_report[\"City\"] == \"Pandas City\")]\n",
    "informe"
   ],
   "outputs": [
    {
     "data": {
      "text/plain": [
       "           Date    Type  \\\n",
       "781  2018-01-15  murder   \n",
       "\n",
       "                                                                                                                                                                                   Description  \\\n",
       "781  Security footage shows that there were 2 witnesses. The first witness lives at the last house on \"Northwestern Dr\". The second witness, named Annabel, lives somewhere on \"Franklin Ave\".   \n",
       "\n",
       "            City  \n",
       "781  Pandas City  "
      ],
      "text/html": [
       "<div>\n",
       "<style scoped>\n",
       "    .dataframe tbody tr th:only-of-type {\n",
       "        vertical-align: middle;\n",
       "    }\n",
       "\n",
       "    .dataframe tbody tr th {\n",
       "        vertical-align: top;\n",
       "    }\n",
       "\n",
       "    .dataframe thead th {\n",
       "        text-align: right;\n",
       "    }\n",
       "</style>\n",
       "<table border=\"1\" class=\"dataframe\">\n",
       "  <thead>\n",
       "    <tr style=\"text-align: right;\">\n",
       "      <th></th>\n",
       "      <th>Date</th>\n",
       "      <th>Type</th>\n",
       "      <th>Description</th>\n",
       "      <th>City</th>\n",
       "    </tr>\n",
       "  </thead>\n",
       "  <tbody>\n",
       "    <tr>\n",
       "      <th>781</th>\n",
       "      <td>2018-01-15</td>\n",
       "      <td>murder</td>\n",
       "      <td>Security footage shows that there were 2 witnesses. The first witness lives at the last house on \"Northwestern Dr\". The second witness, named Annabel, lives somewhere on \"Franklin Ave\".</td>\n",
       "      <td>Pandas City</td>\n",
       "    </tr>\n",
       "  </tbody>\n",
       "</table>\n",
       "</div>"
      ]
     },
     "execution_count": 260,
     "metadata": {},
     "output_type": "execute_result"
    }
   ],
   "execution_count": 260
  },
  {
   "cell_type": "markdown",
   "metadata": {},
   "source": [
    "Una vez que tenemos el informe, leemos que dice la descripcion y vemos que hay 2 testigos. Es tu turno de hacer un codigo de tal manera que puedas encontrar a uno o ambos de ellos\n",
    "\n",
    "_Ayudita:_ usar el dataset `person` y la funcion _df`.str.contains() `_"
   ]
  },
  {
   "metadata": {
    "ExecuteTime": {
     "end_time": "2024-06-05T18:33:31.665925Z",
     "start_time": "2024-06-05T18:33:31.656695Z"
    }
   },
   "cell_type": "code",
   "source": [
    "#imprimir la data frame 'person'\n",
    "person"
   ],
   "outputs": [
    {
     "data": {
      "text/plain": [
       "          Id                 Name  License_Id  Address_Number  \\\n",
       "0      10000   Christoper Peteuil      993845             624   \n",
       "1      10007  Kourtney Calderwood      861794            2791   \n",
       "2      10010            Muoi Cary      385336             741   \n",
       "3      10016          Era Moselle      431897            1987   \n",
       "4      10025         Trena Hornby      550890             276   \n",
       "...      ...                  ...         ...             ...   \n",
       "10006  99936          Luba Benser      274427             680   \n",
       "10007  99941      Roxana Mckimley      975942            1613   \n",
       "10008  99965      Cherie Zeimantz      287627            3661   \n",
       "10009  99982          Allen Cruse      251350            3126   \n",
       "10010  99990         Vance Hunten      830407            3056   \n",
       "\n",
       "      Address_Street_Name        Ssn  \n",
       "0            Bankhall Ave  747714076  \n",
       "1           Gustavus Blvd  477972044  \n",
       "2         Northwestern Dr  828638512  \n",
       "3           Wood Glade St  614621061  \n",
       "4           Daws Hill Way  223877684  \n",
       "...                   ...        ...  \n",
       "10006        Carnage Blvd  685095054  \n",
       "10007             Gate St  512136801  \n",
       "10008       The Water Ave  362877324  \n",
       "10009           N Jean Dr  348734531  \n",
       "10010       Lancefield St  896677562  \n",
       "\n",
       "[10011 rows x 6 columns]"
      ],
      "text/html": [
       "<div>\n",
       "<style scoped>\n",
       "    .dataframe tbody tr th:only-of-type {\n",
       "        vertical-align: middle;\n",
       "    }\n",
       "\n",
       "    .dataframe tbody tr th {\n",
       "        vertical-align: top;\n",
       "    }\n",
       "\n",
       "    .dataframe thead th {\n",
       "        text-align: right;\n",
       "    }\n",
       "</style>\n",
       "<table border=\"1\" class=\"dataframe\">\n",
       "  <thead>\n",
       "    <tr style=\"text-align: right;\">\n",
       "      <th></th>\n",
       "      <th>Id</th>\n",
       "      <th>Name</th>\n",
       "      <th>License_Id</th>\n",
       "      <th>Address_Number</th>\n",
       "      <th>Address_Street_Name</th>\n",
       "      <th>Ssn</th>\n",
       "    </tr>\n",
       "  </thead>\n",
       "  <tbody>\n",
       "    <tr>\n",
       "      <th>0</th>\n",
       "      <td>10000</td>\n",
       "      <td>Christoper Peteuil</td>\n",
       "      <td>993845</td>\n",
       "      <td>624</td>\n",
       "      <td>Bankhall Ave</td>\n",
       "      <td>747714076</td>\n",
       "    </tr>\n",
       "    <tr>\n",
       "      <th>1</th>\n",
       "      <td>10007</td>\n",
       "      <td>Kourtney Calderwood</td>\n",
       "      <td>861794</td>\n",
       "      <td>2791</td>\n",
       "      <td>Gustavus Blvd</td>\n",
       "      <td>477972044</td>\n",
       "    </tr>\n",
       "    <tr>\n",
       "      <th>2</th>\n",
       "      <td>10010</td>\n",
       "      <td>Muoi Cary</td>\n",
       "      <td>385336</td>\n",
       "      <td>741</td>\n",
       "      <td>Northwestern Dr</td>\n",
       "      <td>828638512</td>\n",
       "    </tr>\n",
       "    <tr>\n",
       "      <th>3</th>\n",
       "      <td>10016</td>\n",
       "      <td>Era Moselle</td>\n",
       "      <td>431897</td>\n",
       "      <td>1987</td>\n",
       "      <td>Wood Glade St</td>\n",
       "      <td>614621061</td>\n",
       "    </tr>\n",
       "    <tr>\n",
       "      <th>4</th>\n",
       "      <td>10025</td>\n",
       "      <td>Trena Hornby</td>\n",
       "      <td>550890</td>\n",
       "      <td>276</td>\n",
       "      <td>Daws Hill Way</td>\n",
       "      <td>223877684</td>\n",
       "    </tr>\n",
       "    <tr>\n",
       "      <th>...</th>\n",
       "      <td>...</td>\n",
       "      <td>...</td>\n",
       "      <td>...</td>\n",
       "      <td>...</td>\n",
       "      <td>...</td>\n",
       "      <td>...</td>\n",
       "    </tr>\n",
       "    <tr>\n",
       "      <th>10006</th>\n",
       "      <td>99936</td>\n",
       "      <td>Luba Benser</td>\n",
       "      <td>274427</td>\n",
       "      <td>680</td>\n",
       "      <td>Carnage Blvd</td>\n",
       "      <td>685095054</td>\n",
       "    </tr>\n",
       "    <tr>\n",
       "      <th>10007</th>\n",
       "      <td>99941</td>\n",
       "      <td>Roxana Mckimley</td>\n",
       "      <td>975942</td>\n",
       "      <td>1613</td>\n",
       "      <td>Gate St</td>\n",
       "      <td>512136801</td>\n",
       "    </tr>\n",
       "    <tr>\n",
       "      <th>10008</th>\n",
       "      <td>99965</td>\n",
       "      <td>Cherie Zeimantz</td>\n",
       "      <td>287627</td>\n",
       "      <td>3661</td>\n",
       "      <td>The Water Ave</td>\n",
       "      <td>362877324</td>\n",
       "    </tr>\n",
       "    <tr>\n",
       "      <th>10009</th>\n",
       "      <td>99982</td>\n",
       "      <td>Allen Cruse</td>\n",
       "      <td>251350</td>\n",
       "      <td>3126</td>\n",
       "      <td>N Jean Dr</td>\n",
       "      <td>348734531</td>\n",
       "    </tr>\n",
       "    <tr>\n",
       "      <th>10010</th>\n",
       "      <td>99990</td>\n",
       "      <td>Vance Hunten</td>\n",
       "      <td>830407</td>\n",
       "      <td>3056</td>\n",
       "      <td>Lancefield St</td>\n",
       "      <td>896677562</td>\n",
       "    </tr>\n",
       "  </tbody>\n",
       "</table>\n",
       "<p>10011 rows × 6 columns</p>\n",
       "</div>"
      ]
     },
     "execution_count": 261,
     "metadata": {},
     "output_type": "execute_result"
    }
   ],
   "execution_count": 261
  },
  {
   "metadata": {
    "ExecuteTime": {
     "end_time": "2024-06-05T18:33:31.758997Z",
     "start_time": "2024-06-05T18:33:31.747344Z"
    }
   },
   "cell_type": "code",
   "source": [
    "# testigo1\n",
    "# Filtrar las filas que contienen \"Northwestern Dr\"\n",
    "northwestern_dr = person[person['Address_Street_Name'].str.contains(\"Northwestern Dr\")]\n",
    "\n",
    "# Encontrar la fila con el valor más alto en 'Address_Number' dentro del filtro anterior\n",
    "max_northwestern_dr = northwestern_dr.loc[northwestern_dr['Address_Number'].idxmax()]\n",
    "\n",
    "testigo1 = max_northwestern_dr\n",
    "\n",
    "testigo1\n",
    "\n"
   ],
   "outputs": [
    {
     "data": {
      "text/plain": [
       "Id                               14887\n",
       "Name                    Morty Schapiro\n",
       "License_Id                      118009\n",
       "Address_Number                    4919\n",
       "Address_Street_Name    Northwestern Dr\n",
       "Ssn                          111564949\n",
       "Name: 499, dtype: object"
      ]
     },
     "execution_count": 263,
     "metadata": {},
     "output_type": "execute_result"
    }
   ],
   "execution_count": 263
  },
  {
   "metadata": {
    "ExecuteTime": {
     "end_time": "2024-06-05T18:33:31.893406Z",
     "start_time": "2024-06-05T18:33:31.873391Z"
    }
   },
   "cell_type": "code",
   "source": "person[person['Name'].str.contains(\"Annabel\") & person['Address_Street_Name'].str.contains(\"Franklin Ave\")]\n",
   "outputs": [
    {
     "data": {
      "text/plain": [
       "        Id            Name  License_Id  Address_Number Address_Street_Name  \\\n",
       "665  16371  Annabel Miller      490173             103        Franklin Ave   \n",
       "\n",
       "           Ssn  \n",
       "665  318771143  "
      ],
      "text/html": [
       "<div>\n",
       "<style scoped>\n",
       "    .dataframe tbody tr th:only-of-type {\n",
       "        vertical-align: middle;\n",
       "    }\n",
       "\n",
       "    .dataframe tbody tr th {\n",
       "        vertical-align: top;\n",
       "    }\n",
       "\n",
       "    .dataframe thead th {\n",
       "        text-align: right;\n",
       "    }\n",
       "</style>\n",
       "<table border=\"1\" class=\"dataframe\">\n",
       "  <thead>\n",
       "    <tr style=\"text-align: right;\">\n",
       "      <th></th>\n",
       "      <th>Id</th>\n",
       "      <th>Name</th>\n",
       "      <th>License_Id</th>\n",
       "      <th>Address_Number</th>\n",
       "      <th>Address_Street_Name</th>\n",
       "      <th>Ssn</th>\n",
       "    </tr>\n",
       "  </thead>\n",
       "  <tbody>\n",
       "    <tr>\n",
       "      <th>665</th>\n",
       "      <td>16371</td>\n",
       "      <td>Annabel Miller</td>\n",
       "      <td>490173</td>\n",
       "      <td>103</td>\n",
       "      <td>Franklin Ave</td>\n",
       "      <td>318771143</td>\n",
       "    </tr>\n",
       "  </tbody>\n",
       "</table>\n",
       "</div>"
      ]
     },
     "execution_count": 264,
     "metadata": {},
     "output_type": "execute_result"
    }
   ],
   "execution_count": 264
  },
  {
   "metadata": {
    "ExecuteTime": {
     "end_time": "2024-06-05T18:33:32.096046Z",
     "start_time": "2024-06-05T18:33:32.090018Z"
    }
   },
   "cell_type": "code",
   "source": [
    "testigo2 = person.loc[665]\n",
    "testigo2    "
   ],
   "outputs": [
    {
     "data": {
      "text/plain": [
       "Id                              16371\n",
       "Name                   Annabel Miller\n",
       "License_Id                     490173\n",
       "Address_Number                    103\n",
       "Address_Street_Name      Franklin Ave\n",
       "Ssn                         318771143\n",
       "Name: 665, dtype: object"
      ]
     },
     "execution_count": 265,
     "metadata": {},
     "output_type": "execute_result"
    }
   ],
   "execution_count": 265
  },
  {
   "cell_type": "markdown",
   "metadata": {},
   "source": [
    "Una vez que encontraste a los testigos en la base de datos de personas, te recomiendo que busques sus entrevistas en el dataset `interviews`\n",
    "\n",
    "A partir de aca, te dejo el resto de la investigacion a vos. ***¡Muchos exitos detective!***"
   ]
  },
  {
   "metadata": {
    "ExecuteTime": {
     "end_time": "2024-06-05T18:33:32.144337Z",
     "start_time": "2024-06-05T18:33:32.134701Z"
    }
   },
   "cell_type": "code",
   "source": "interview",
   "outputs": [
    {
     "data": {
      "text/plain": [
       "      Person_Id  \\\n",
       "0         63713   \n",
       "1         33856   \n",
       "2         82799   \n",
       "3         54206   \n",
       "4         34615   \n",
       "...         ...   \n",
       "4986      37357   \n",
       "4987      10206   \n",
       "4988      14887   \n",
       "4989      16371   \n",
       "4990      67318   \n",
       "\n",
       "                                                                                                                                                                                                                                            Transcript  \n",
       "0                                                                                                                                                                                                                                                  NaN  \n",
       "1                                                                                                                                                                                                                                                  NaN  \n",
       "2                                                                                                                                                                                                                                                  NaN  \n",
       "3                                                                                                                                                                                                                                                  NaN  \n",
       "4                                                                                                                                                                                                                                                  NaN  \n",
       "...                                                                                                                                                                                                                                                ...  \n",
       "4986                                                                                                                                                                                Alice did not wish to offend the Dormouse again, so she began very  \n",
       "4987                                                                                                                                                                          time,’ she said, ‘than waste it in asking riddles that have no answers.’  \n",
       "4988                   I heard a gunshot and then saw a man run out. He had a \"Get Fit Now Gym\" bag. The membership number on the bag started with \"48Z\". Only gold members have those bags. The man got into a car with a plate that included \"H42W\".  \n",
       "4989                                                                                                                             I saw the murder happen, and I recognized the killer from my gym when I was working out last week on January the 9th.  \n",
       "4990  I was hired by a woman with a lot of money. I don't know her name but I know she's around 5'5\" (65\") or 5'7\" (67\"). She has red hair and she drives a Tesla Model S. I know that she attended the SQL Symphony Concert 3 times in December 2017.  \n",
       "\n",
       "[4991 rows x 2 columns]"
      ],
      "text/html": [
       "<div>\n",
       "<style scoped>\n",
       "    .dataframe tbody tr th:only-of-type {\n",
       "        vertical-align: middle;\n",
       "    }\n",
       "\n",
       "    .dataframe tbody tr th {\n",
       "        vertical-align: top;\n",
       "    }\n",
       "\n",
       "    .dataframe thead th {\n",
       "        text-align: right;\n",
       "    }\n",
       "</style>\n",
       "<table border=\"1\" class=\"dataframe\">\n",
       "  <thead>\n",
       "    <tr style=\"text-align: right;\">\n",
       "      <th></th>\n",
       "      <th>Person_Id</th>\n",
       "      <th>Transcript</th>\n",
       "    </tr>\n",
       "  </thead>\n",
       "  <tbody>\n",
       "    <tr>\n",
       "      <th>0</th>\n",
       "      <td>63713</td>\n",
       "      <td>NaN</td>\n",
       "    </tr>\n",
       "    <tr>\n",
       "      <th>1</th>\n",
       "      <td>33856</td>\n",
       "      <td>NaN</td>\n",
       "    </tr>\n",
       "    <tr>\n",
       "      <th>2</th>\n",
       "      <td>82799</td>\n",
       "      <td>NaN</td>\n",
       "    </tr>\n",
       "    <tr>\n",
       "      <th>3</th>\n",
       "      <td>54206</td>\n",
       "      <td>NaN</td>\n",
       "    </tr>\n",
       "    <tr>\n",
       "      <th>4</th>\n",
       "      <td>34615</td>\n",
       "      <td>NaN</td>\n",
       "    </tr>\n",
       "    <tr>\n",
       "      <th>...</th>\n",
       "      <td>...</td>\n",
       "      <td>...</td>\n",
       "    </tr>\n",
       "    <tr>\n",
       "      <th>4986</th>\n",
       "      <td>37357</td>\n",
       "      <td>Alice did not wish to offend the Dormouse again, so she began very</td>\n",
       "    </tr>\n",
       "    <tr>\n",
       "      <th>4987</th>\n",
       "      <td>10206</td>\n",
       "      <td>time,’ she said, ‘than waste it in asking riddles that have no answers.’</td>\n",
       "    </tr>\n",
       "    <tr>\n",
       "      <th>4988</th>\n",
       "      <td>14887</td>\n",
       "      <td>I heard a gunshot and then saw a man run out. He had a \"Get Fit Now Gym\" bag. The membership number on the bag started with \"48Z\". Only gold members have those bags. The man got into a car with a plate that included \"H42W\".</td>\n",
       "    </tr>\n",
       "    <tr>\n",
       "      <th>4989</th>\n",
       "      <td>16371</td>\n",
       "      <td>I saw the murder happen, and I recognized the killer from my gym when I was working out last week on January the 9th.</td>\n",
       "    </tr>\n",
       "    <tr>\n",
       "      <th>4990</th>\n",
       "      <td>67318</td>\n",
       "      <td>I was hired by a woman with a lot of money. I don't know her name but I know she's around 5'5\" (65\") or 5'7\" (67\"). She has red hair and she drives a Tesla Model S. I know that she attended the SQL Symphony Concert 3 times in December 2017.</td>\n",
       "    </tr>\n",
       "  </tbody>\n",
       "</table>\n",
       "<p>4991 rows × 2 columns</p>\n",
       "</div>"
      ]
     },
     "execution_count": 266,
     "metadata": {},
     "output_type": "execute_result"
    }
   ],
   "execution_count": 266
  },
  {
   "metadata": {
    "ExecuteTime": {
     "end_time": "2024-06-05T18:33:32.203885Z",
     "start_time": "2024-06-05T18:33:32.198331Z"
    }
   },
   "cell_type": "code",
   "source": "testigo1",
   "outputs": [
    {
     "data": {
      "text/plain": [
       "Id                               14887\n",
       "Name                    Morty Schapiro\n",
       "License_Id                      118009\n",
       "Address_Number                    4919\n",
       "Address_Street_Name    Northwestern Dr\n",
       "Ssn                          111564949\n",
       "Name: 499, dtype: object"
      ]
     },
     "execution_count": 267,
     "metadata": {},
     "output_type": "execute_result"
    }
   ],
   "execution_count": 267
  },
  {
   "metadata": {
    "ExecuteTime": {
     "end_time": "2024-06-05T18:33:32.249712Z",
     "start_time": "2024-06-05T18:33:32.241855Z"
    }
   },
   "cell_type": "code",
   "source": [
    "# testigo1 interview\n",
    "testigo1_id = 14887\n",
    "entrevista_testigo1 = interview.loc[interview['Person_Id'] == testigo1_id]\n",
    "entrevista_testigo1"
   ],
   "outputs": [
    {
     "data": {
      "text/plain": [
       "      Person_Id  \\\n",
       "4988      14887   \n",
       "\n",
       "                                                                                                                                                                                                                           Transcript  \n",
       "4988  I heard a gunshot and then saw a man run out. He had a \"Get Fit Now Gym\" bag. The membership number on the bag started with \"48Z\". Only gold members have those bags. The man got into a car with a plate that included \"H42W\".  "
      ],
      "text/html": [
       "<div>\n",
       "<style scoped>\n",
       "    .dataframe tbody tr th:only-of-type {\n",
       "        vertical-align: middle;\n",
       "    }\n",
       "\n",
       "    .dataframe tbody tr th {\n",
       "        vertical-align: top;\n",
       "    }\n",
       "\n",
       "    .dataframe thead th {\n",
       "        text-align: right;\n",
       "    }\n",
       "</style>\n",
       "<table border=\"1\" class=\"dataframe\">\n",
       "  <thead>\n",
       "    <tr style=\"text-align: right;\">\n",
       "      <th></th>\n",
       "      <th>Person_Id</th>\n",
       "      <th>Transcript</th>\n",
       "    </tr>\n",
       "  </thead>\n",
       "  <tbody>\n",
       "    <tr>\n",
       "      <th>4988</th>\n",
       "      <td>14887</td>\n",
       "      <td>I heard a gunshot and then saw a man run out. He had a \"Get Fit Now Gym\" bag. The membership number on the bag started with \"48Z\". Only gold members have those bags. The man got into a car with a plate that included \"H42W\".</td>\n",
       "    </tr>\n",
       "  </tbody>\n",
       "</table>\n",
       "</div>"
      ]
     },
     "execution_count": 268,
     "metadata": {},
     "output_type": "execute_result"
    }
   ],
   "execution_count": 268
  },
  {
   "metadata": {
    "ExecuteTime": {
     "end_time": "2024-06-05T18:33:32.400274Z",
     "start_time": "2024-06-05T18:33:32.394044Z"
    }
   },
   "cell_type": "code",
   "source": "testigo2",
   "outputs": [
    {
     "data": {
      "text/plain": [
       "Id                              16371\n",
       "Name                   Annabel Miller\n",
       "License_Id                     490173\n",
       "Address_Number                    103\n",
       "Address_Street_Name      Franklin Ave\n",
       "Ssn                         318771143\n",
       "Name: 665, dtype: object"
      ]
     },
     "execution_count": 269,
     "metadata": {},
     "output_type": "execute_result"
    }
   ],
   "execution_count": 269
  },
  {
   "metadata": {
    "ExecuteTime": {
     "end_time": "2024-06-05T18:33:32.455596Z",
     "start_time": "2024-06-05T18:33:32.448114Z"
    }
   },
   "cell_type": "code",
   "source": [
    "# testigo2 interview\n",
    "testigo2_id = 16371\n",
    "entrevista_testigo2 = interview.loc[interview['Person_Id'] == testigo2_id]\n",
    "entrevista_testigo2"
   ],
   "outputs": [
    {
     "data": {
      "text/plain": [
       "      Person_Id  \\\n",
       "4989      16371   \n",
       "\n",
       "                                                                                                                 Transcript  \n",
       "4989  I saw the murder happen, and I recognized the killer from my gym when I was working out last week on January the 9th.  "
      ],
      "text/html": [
       "<div>\n",
       "<style scoped>\n",
       "    .dataframe tbody tr th:only-of-type {\n",
       "        vertical-align: middle;\n",
       "    }\n",
       "\n",
       "    .dataframe tbody tr th {\n",
       "        vertical-align: top;\n",
       "    }\n",
       "\n",
       "    .dataframe thead th {\n",
       "        text-align: right;\n",
       "    }\n",
       "</style>\n",
       "<table border=\"1\" class=\"dataframe\">\n",
       "  <thead>\n",
       "    <tr style=\"text-align: right;\">\n",
       "      <th></th>\n",
       "      <th>Person_Id</th>\n",
       "      <th>Transcript</th>\n",
       "    </tr>\n",
       "  </thead>\n",
       "  <tbody>\n",
       "    <tr>\n",
       "      <th>4989</th>\n",
       "      <td>16371</td>\n",
       "      <td>I saw the murder happen, and I recognized the killer from my gym when I was working out last week on January the 9th.</td>\n",
       "    </tr>\n",
       "  </tbody>\n",
       "</table>\n",
       "</div>"
      ]
     },
     "execution_count": 270,
     "metadata": {},
     "output_type": "execute_result"
    }
   ],
   "execution_count": 270
  },
  {
   "metadata": {
    "ExecuteTime": {
     "end_time": "2024-06-05T18:33:32.578025Z",
     "start_time": "2024-06-05T18:33:32.569799Z"
    }
   },
   "cell_type": "code",
   "source": "getfitnow_checkin",
   "outputs": [
    {
     "data": {
      "text/plain": [
       "     Membership_Id Check_In_Date  Check_In_Time  Check_Out_Time\n",
       "0            NL318    2018-02-12            329             365\n",
       "1            NL318    2017-08-11            469             920\n",
       "2            NL318    2018-04-29            506             554\n",
       "3            NL318    2018-01-28            124             759\n",
       "4            NL318    2017-10-27            418            1019\n",
       "...            ...           ...            ...             ...\n",
       "2698         4KB72    2017-04-22           1016            1114\n",
       "2699         4KB72    2017-06-30            408             885\n",
       "2700         48Z7A    2018-01-09           1600            1730\n",
       "2701         48Z55    2018-01-09           1530            1700\n",
       "2702         90081    2018-01-09           1600            1700\n",
       "\n",
       "[2703 rows x 4 columns]"
      ],
      "text/html": [
       "<div>\n",
       "<style scoped>\n",
       "    .dataframe tbody tr th:only-of-type {\n",
       "        vertical-align: middle;\n",
       "    }\n",
       "\n",
       "    .dataframe tbody tr th {\n",
       "        vertical-align: top;\n",
       "    }\n",
       "\n",
       "    .dataframe thead th {\n",
       "        text-align: right;\n",
       "    }\n",
       "</style>\n",
       "<table border=\"1\" class=\"dataframe\">\n",
       "  <thead>\n",
       "    <tr style=\"text-align: right;\">\n",
       "      <th></th>\n",
       "      <th>Membership_Id</th>\n",
       "      <th>Check_In_Date</th>\n",
       "      <th>Check_In_Time</th>\n",
       "      <th>Check_Out_Time</th>\n",
       "    </tr>\n",
       "  </thead>\n",
       "  <tbody>\n",
       "    <tr>\n",
       "      <th>0</th>\n",
       "      <td>NL318</td>\n",
       "      <td>2018-02-12</td>\n",
       "      <td>329</td>\n",
       "      <td>365</td>\n",
       "    </tr>\n",
       "    <tr>\n",
       "      <th>1</th>\n",
       "      <td>NL318</td>\n",
       "      <td>2017-08-11</td>\n",
       "      <td>469</td>\n",
       "      <td>920</td>\n",
       "    </tr>\n",
       "    <tr>\n",
       "      <th>2</th>\n",
       "      <td>NL318</td>\n",
       "      <td>2018-04-29</td>\n",
       "      <td>506</td>\n",
       "      <td>554</td>\n",
       "    </tr>\n",
       "    <tr>\n",
       "      <th>3</th>\n",
       "      <td>NL318</td>\n",
       "      <td>2018-01-28</td>\n",
       "      <td>124</td>\n",
       "      <td>759</td>\n",
       "    </tr>\n",
       "    <tr>\n",
       "      <th>4</th>\n",
       "      <td>NL318</td>\n",
       "      <td>2017-10-27</td>\n",
       "      <td>418</td>\n",
       "      <td>1019</td>\n",
       "    </tr>\n",
       "    <tr>\n",
       "      <th>...</th>\n",
       "      <td>...</td>\n",
       "      <td>...</td>\n",
       "      <td>...</td>\n",
       "      <td>...</td>\n",
       "    </tr>\n",
       "    <tr>\n",
       "      <th>2698</th>\n",
       "      <td>4KB72</td>\n",
       "      <td>2017-04-22</td>\n",
       "      <td>1016</td>\n",
       "      <td>1114</td>\n",
       "    </tr>\n",
       "    <tr>\n",
       "      <th>2699</th>\n",
       "      <td>4KB72</td>\n",
       "      <td>2017-06-30</td>\n",
       "      <td>408</td>\n",
       "      <td>885</td>\n",
       "    </tr>\n",
       "    <tr>\n",
       "      <th>2700</th>\n",
       "      <td>48Z7A</td>\n",
       "      <td>2018-01-09</td>\n",
       "      <td>1600</td>\n",
       "      <td>1730</td>\n",
       "    </tr>\n",
       "    <tr>\n",
       "      <th>2701</th>\n",
       "      <td>48Z55</td>\n",
       "      <td>2018-01-09</td>\n",
       "      <td>1530</td>\n",
       "      <td>1700</td>\n",
       "    </tr>\n",
       "    <tr>\n",
       "      <th>2702</th>\n",
       "      <td>90081</td>\n",
       "      <td>2018-01-09</td>\n",
       "      <td>1600</td>\n",
       "      <td>1700</td>\n",
       "    </tr>\n",
       "  </tbody>\n",
       "</table>\n",
       "<p>2703 rows × 4 columns</p>\n",
       "</div>"
      ]
     },
     "execution_count": 271,
     "metadata": {},
     "output_type": "execute_result"
    }
   ],
   "execution_count": 271
  },
  {
   "metadata": {
    "ExecuteTime": {
     "end_time": "2024-06-05T18:33:32.649053Z",
     "start_time": "2024-06-05T18:33:32.642382Z"
    }
   },
   "cell_type": "code",
   "source": [
    "# Supongamos que 'getfitnow_checkin' es tu DataFrame y 'Check_In_Date' es la columna con las fechas\n",
    "\n",
    "# Buscar la fecha específica\n",
    "fecha_a_buscar = '2017-01-09'\n",
    "resultado = getfitnow_checkin.loc[getfitnow_checkin['Check_In_Date'] == fecha_a_buscar]\n",
    "\n",
    "# Mostrar el resultado\n",
    "print(resultado)"
   ],
   "outputs": [
    {
     "name": "stdout",
     "output_type": "stream",
     "text": [
      "     Membership_Id Check_In_Date  Check_In_Time  Check_Out_Time\n",
      "384          4D5R1    2017-01-09              5             451\n",
      "1657         5VE7U    2017-01-09            898             915\n",
      "1851         MZQ3U    2017-01-09            964            1191\n",
      "2685         4KB72    2017-01-09            642             767\n"
     ]
    }
   ],
   "execution_count": 272
  },
  {
   "metadata": {
    "ExecuteTime": {
     "end_time": "2024-06-05T18:33:32.762366Z",
     "start_time": "2024-06-05T18:33:32.752647Z"
    }
   },
   "cell_type": "code",
   "source": [
    "# Buscar la fecha específica\n",
    "fecha_a_buscar = '2018-01-09'\n",
    "resultado = getfitnow_checkin.loc[getfitnow_checkin['Check_In_Date'] == fecha_a_buscar]\n",
    "\n",
    "# Mostrar el resultado\n",
    "resultado"
   ],
   "outputs": [
    {
     "data": {
      "text/plain": [
       "     Membership_Id Check_In_Date  Check_In_Time  Check_Out_Time\n",
       "113          X0643    2018-01-09            957            1164\n",
       "889          UK1F2    2018-01-09            344             518\n",
       "1329         XTE42    2018-01-09            486            1124\n",
       "1446         1AE2H    2018-01-09            461             944\n",
       "1703         6LSTG    2018-01-09            399             515\n",
       "2137         7MWHJ    2018-01-09            273             885\n",
       "2435         GE5Q8    2018-01-09            367             959\n",
       "2700         48Z7A    2018-01-09           1600            1730\n",
       "2701         48Z55    2018-01-09           1530            1700\n",
       "2702         90081    2018-01-09           1600            1700"
      ],
      "text/html": [
       "<div>\n",
       "<style scoped>\n",
       "    .dataframe tbody tr th:only-of-type {\n",
       "        vertical-align: middle;\n",
       "    }\n",
       "\n",
       "    .dataframe tbody tr th {\n",
       "        vertical-align: top;\n",
       "    }\n",
       "\n",
       "    .dataframe thead th {\n",
       "        text-align: right;\n",
       "    }\n",
       "</style>\n",
       "<table border=\"1\" class=\"dataframe\">\n",
       "  <thead>\n",
       "    <tr style=\"text-align: right;\">\n",
       "      <th></th>\n",
       "      <th>Membership_Id</th>\n",
       "      <th>Check_In_Date</th>\n",
       "      <th>Check_In_Time</th>\n",
       "      <th>Check_Out_Time</th>\n",
       "    </tr>\n",
       "  </thead>\n",
       "  <tbody>\n",
       "    <tr>\n",
       "      <th>113</th>\n",
       "      <td>X0643</td>\n",
       "      <td>2018-01-09</td>\n",
       "      <td>957</td>\n",
       "      <td>1164</td>\n",
       "    </tr>\n",
       "    <tr>\n",
       "      <th>889</th>\n",
       "      <td>UK1F2</td>\n",
       "      <td>2018-01-09</td>\n",
       "      <td>344</td>\n",
       "      <td>518</td>\n",
       "    </tr>\n",
       "    <tr>\n",
       "      <th>1329</th>\n",
       "      <td>XTE42</td>\n",
       "      <td>2018-01-09</td>\n",
       "      <td>486</td>\n",
       "      <td>1124</td>\n",
       "    </tr>\n",
       "    <tr>\n",
       "      <th>1446</th>\n",
       "      <td>1AE2H</td>\n",
       "      <td>2018-01-09</td>\n",
       "      <td>461</td>\n",
       "      <td>944</td>\n",
       "    </tr>\n",
       "    <tr>\n",
       "      <th>1703</th>\n",
       "      <td>6LSTG</td>\n",
       "      <td>2018-01-09</td>\n",
       "      <td>399</td>\n",
       "      <td>515</td>\n",
       "    </tr>\n",
       "    <tr>\n",
       "      <th>2137</th>\n",
       "      <td>7MWHJ</td>\n",
       "      <td>2018-01-09</td>\n",
       "      <td>273</td>\n",
       "      <td>885</td>\n",
       "    </tr>\n",
       "    <tr>\n",
       "      <th>2435</th>\n",
       "      <td>GE5Q8</td>\n",
       "      <td>2018-01-09</td>\n",
       "      <td>367</td>\n",
       "      <td>959</td>\n",
       "    </tr>\n",
       "    <tr>\n",
       "      <th>2700</th>\n",
       "      <td>48Z7A</td>\n",
       "      <td>2018-01-09</td>\n",
       "      <td>1600</td>\n",
       "      <td>1730</td>\n",
       "    </tr>\n",
       "    <tr>\n",
       "      <th>2701</th>\n",
       "      <td>48Z55</td>\n",
       "      <td>2018-01-09</td>\n",
       "      <td>1530</td>\n",
       "      <td>1700</td>\n",
       "    </tr>\n",
       "    <tr>\n",
       "      <th>2702</th>\n",
       "      <td>90081</td>\n",
       "      <td>2018-01-09</td>\n",
       "      <td>1600</td>\n",
       "      <td>1700</td>\n",
       "    </tr>\n",
       "  </tbody>\n",
       "</table>\n",
       "</div>"
      ]
     },
     "execution_count": 273,
     "metadata": {},
     "output_type": "execute_result"
    }
   ],
   "execution_count": 273
  },
  {
   "metadata": {
    "ExecuteTime": {
     "end_time": "2024-06-05T18:33:32.842889Z",
     "start_time": "2024-06-05T18:33:32.833615Z"
    }
   },
   "cell_type": "code",
   "source": [
    "getfitnow_members  \n",
    "\n",
    "# Buscar el id específico\n",
    "id_a_buscar = '48Z55'\n",
    "resultado_asesino1 = getfitnow_members.loc[getfitnow_members['Id'] == id_a_buscar]\n",
    "\n",
    "# Mostrar el resultado\n",
    "resultado_asesino1"
   ],
   "outputs": [
    {
     "data": {
      "text/plain": [
       "       Id  Person_Id           Name Membership_Start_Date Membership_Status\n",
       "66  48Z55      67318  Jeremy Bowers            2016-01-01              Gold"
      ],
      "text/html": [
       "<div>\n",
       "<style scoped>\n",
       "    .dataframe tbody tr th:only-of-type {\n",
       "        vertical-align: middle;\n",
       "    }\n",
       "\n",
       "    .dataframe tbody tr th {\n",
       "        vertical-align: top;\n",
       "    }\n",
       "\n",
       "    .dataframe thead th {\n",
       "        text-align: right;\n",
       "    }\n",
       "</style>\n",
       "<table border=\"1\" class=\"dataframe\">\n",
       "  <thead>\n",
       "    <tr style=\"text-align: right;\">\n",
       "      <th></th>\n",
       "      <th>Id</th>\n",
       "      <th>Person_Id</th>\n",
       "      <th>Name</th>\n",
       "      <th>Membership_Start_Date</th>\n",
       "      <th>Membership_Status</th>\n",
       "    </tr>\n",
       "  </thead>\n",
       "  <tbody>\n",
       "    <tr>\n",
       "      <th>66</th>\n",
       "      <td>48Z55</td>\n",
       "      <td>67318</td>\n",
       "      <td>Jeremy Bowers</td>\n",
       "      <td>2016-01-01</td>\n",
       "      <td>Gold</td>\n",
       "    </tr>\n",
       "  </tbody>\n",
       "</table>\n",
       "</div>"
      ]
     },
     "execution_count": 274,
     "metadata": {},
     "output_type": "execute_result"
    }
   ],
   "execution_count": 274
  },
  {
   "metadata": {
    "ExecuteTime": {
     "end_time": "2024-06-05T18:33:33.016392Z",
     "start_time": "2024-06-05T18:33:33.007976Z"
    }
   },
   "cell_type": "code",
   "source": [
    "getfitnow_members  \n",
    "\n",
    "# Buscar el id específico\n",
    "id_a_buscar = '48Z7A'\n",
    "resultado_asesino2 = getfitnow_members.loc[getfitnow_members['Id'] == id_a_buscar]\n",
    "\n",
    "# Mostrar el resultado\n",
    "resultado_asesino2"
   ],
   "outputs": [
    {
     "data": {
      "text/plain": [
       "       Id  Person_Id          Name Membership_Start_Date Membership_Status\n",
       "65  48Z7A      28819  Joe Germuska            2016-03-05              Gold"
      ],
      "text/html": [
       "<div>\n",
       "<style scoped>\n",
       "    .dataframe tbody tr th:only-of-type {\n",
       "        vertical-align: middle;\n",
       "    }\n",
       "\n",
       "    .dataframe tbody tr th {\n",
       "        vertical-align: top;\n",
       "    }\n",
       "\n",
       "    .dataframe thead th {\n",
       "        text-align: right;\n",
       "    }\n",
       "</style>\n",
       "<table border=\"1\" class=\"dataframe\">\n",
       "  <thead>\n",
       "    <tr style=\"text-align: right;\">\n",
       "      <th></th>\n",
       "      <th>Id</th>\n",
       "      <th>Person_Id</th>\n",
       "      <th>Name</th>\n",
       "      <th>Membership_Start_Date</th>\n",
       "      <th>Membership_Status</th>\n",
       "    </tr>\n",
       "  </thead>\n",
       "  <tbody>\n",
       "    <tr>\n",
       "      <th>65</th>\n",
       "      <td>48Z7A</td>\n",
       "      <td>28819</td>\n",
       "      <td>Joe Germuska</td>\n",
       "      <td>2016-03-05</td>\n",
       "      <td>Gold</td>\n",
       "    </tr>\n",
       "  </tbody>\n",
       "</table>\n",
       "</div>"
      ]
     },
     "execution_count": 275,
     "metadata": {},
     "output_type": "execute_result"
    }
   ],
   "execution_count": 275
  },
  {
   "metadata": {
    "ExecuteTime": {
     "end_time": "2024-06-05T18:33:33.061682Z",
     "start_time": "2024-06-05T18:33:33.052948Z"
    }
   },
   "cell_type": "code",
   "source": [
    "\n",
    "nombre_a_buscar = 'Jeremy Bowers'\n",
    "\n",
    "# Buscar el nombre específico en el DataFrame\n",
    "resultado = person.loc[person['Name'] == nombre_a_buscar]\n",
    "\n",
    "# Mostrar el resultado\n",
    "resultado\n"
   ],
   "outputs": [
    {
     "data": {
      "text/plain": [
       "         Id           Name  License_Id  Address_Number    Address_Street_Name  \\\n",
       "6327  67318  Jeremy Bowers      423327             530  Washington Pl, Apt 3A   \n",
       "\n",
       "            Ssn  \n",
       "6327  871539279  "
      ],
      "text/html": [
       "<div>\n",
       "<style scoped>\n",
       "    .dataframe tbody tr th:only-of-type {\n",
       "        vertical-align: middle;\n",
       "    }\n",
       "\n",
       "    .dataframe tbody tr th {\n",
       "        vertical-align: top;\n",
       "    }\n",
       "\n",
       "    .dataframe thead th {\n",
       "        text-align: right;\n",
       "    }\n",
       "</style>\n",
       "<table border=\"1\" class=\"dataframe\">\n",
       "  <thead>\n",
       "    <tr style=\"text-align: right;\">\n",
       "      <th></th>\n",
       "      <th>Id</th>\n",
       "      <th>Name</th>\n",
       "      <th>License_Id</th>\n",
       "      <th>Address_Number</th>\n",
       "      <th>Address_Street_Name</th>\n",
       "      <th>Ssn</th>\n",
       "    </tr>\n",
       "  </thead>\n",
       "  <tbody>\n",
       "    <tr>\n",
       "      <th>6327</th>\n",
       "      <td>67318</td>\n",
       "      <td>Jeremy Bowers</td>\n",
       "      <td>423327</td>\n",
       "      <td>530</td>\n",
       "      <td>Washington Pl, Apt 3A</td>\n",
       "      <td>871539279</td>\n",
       "    </tr>\n",
       "  </tbody>\n",
       "</table>\n",
       "</div>"
      ]
     },
     "execution_count": 276,
     "metadata": {},
     "output_type": "execute_result"
    }
   ],
   "execution_count": 276
  },
  {
   "metadata": {
    "ExecuteTime": {
     "end_time": "2024-06-05T18:33:33.181680Z",
     "start_time": "2024-06-05T18:33:33.171178Z"
    }
   },
   "cell_type": "code",
   "source": [
    "nombre_a_buscar = 'Joe Germuska'\n",
    "\n",
    "# Buscar el nombre específico en el DataFrame\n",
    "resultado = person.loc[person['Name'] == nombre_a_buscar]\n",
    "\n",
    "# Mostrar el resultado\n",
    "resultado"
   ],
   "outputs": [
    {
     "data": {
      "text/plain": [
       "         Id          Name  License_Id  Address_Number Address_Street_Name  \\\n",
       "2037  28819  Joe Germuska      173289             111             Fisk Rd   \n",
       "\n",
       "            Ssn  \n",
       "2037  138909730  "
      ],
      "text/html": [
       "<div>\n",
       "<style scoped>\n",
       "    .dataframe tbody tr th:only-of-type {\n",
       "        vertical-align: middle;\n",
       "    }\n",
       "\n",
       "    .dataframe tbody tr th {\n",
       "        vertical-align: top;\n",
       "    }\n",
       "\n",
       "    .dataframe thead th {\n",
       "        text-align: right;\n",
       "    }\n",
       "</style>\n",
       "<table border=\"1\" class=\"dataframe\">\n",
       "  <thead>\n",
       "    <tr style=\"text-align: right;\">\n",
       "      <th></th>\n",
       "      <th>Id</th>\n",
       "      <th>Name</th>\n",
       "      <th>License_Id</th>\n",
       "      <th>Address_Number</th>\n",
       "      <th>Address_Street_Name</th>\n",
       "      <th>Ssn</th>\n",
       "    </tr>\n",
       "  </thead>\n",
       "  <tbody>\n",
       "    <tr>\n",
       "      <th>2037</th>\n",
       "      <td>28819</td>\n",
       "      <td>Joe Germuska</td>\n",
       "      <td>173289</td>\n",
       "      <td>111</td>\n",
       "      <td>Fisk Rd</td>\n",
       "      <td>138909730</td>\n",
       "    </tr>\n",
       "  </tbody>\n",
       "</table>\n",
       "</div>"
      ]
     },
     "execution_count": 277,
     "metadata": {},
     "output_type": "execute_result"
    }
   ],
   "execution_count": 277
  },
  {
   "metadata": {
    "ExecuteTime": {
     "end_time": "2024-06-05T18:33:33.280889Z",
     "start_time": "2024-06-05T18:33:33.269990Z"
    }
   },
   "cell_type": "code",
   "source": "drivers_license",
   "outputs": [
    {
     "data": {
      "text/plain": [
       "           Id  Age  Height Eye_Color Hair_Color  Gender Plate_Number Car_Make  \\\n",
       "0      103138   37      65     brown     Blonde    Male       T6TV0T     Ford   \n",
       "1      103260   22      59     brown     Blonde  Female       G67F83     Ford   \n",
       "2      108374   18      63     brown        Red    Male       X2KE6N     Ford   \n",
       "3      109238   35      76     brown      Brown  Female       O771Z2     Ford   \n",
       "4      109596   30      75     brown        Red  Female       861GR4     Ford   \n",
       "...       ...  ...     ...       ...        ...     ...          ...      ...   \n",
       "10002  959383   39      55     amber       Blue  Female       HJM7AH     Ford   \n",
       "10003  960969   66      50     amber      White  Female       FN3TQ3     Ford   \n",
       "10004  967386   21      59     amber      White  Female       0NBT4P     Ford   \n",
       "10005  985357   84      80     amber      Green  Female       0T15Z5     Ford   \n",
       "10006  995922   77      60     amber       Blue  Female       IS2LA5     Ford   \n",
       "\n",
       "                 Car_Model  \n",
       "0                    Focus  \n",
       "1                     E250  \n",
       "2                   Escape  \n",
       "3                     F150  \n",
       "4              Thunderbird  \n",
       "...                    ...  \n",
       "10002               Taurus  \n",
       "10003             F-Series  \n",
       "10004             Windstar  \n",
       "10005  Explorer Sport Trac  \n",
       "10006               Taurus  \n",
       "\n",
       "[10007 rows x 9 columns]"
      ],
      "text/html": [
       "<div>\n",
       "<style scoped>\n",
       "    .dataframe tbody tr th:only-of-type {\n",
       "        vertical-align: middle;\n",
       "    }\n",
       "\n",
       "    .dataframe tbody tr th {\n",
       "        vertical-align: top;\n",
       "    }\n",
       "\n",
       "    .dataframe thead th {\n",
       "        text-align: right;\n",
       "    }\n",
       "</style>\n",
       "<table border=\"1\" class=\"dataframe\">\n",
       "  <thead>\n",
       "    <tr style=\"text-align: right;\">\n",
       "      <th></th>\n",
       "      <th>Id</th>\n",
       "      <th>Age</th>\n",
       "      <th>Height</th>\n",
       "      <th>Eye_Color</th>\n",
       "      <th>Hair_Color</th>\n",
       "      <th>Gender</th>\n",
       "      <th>Plate_Number</th>\n",
       "      <th>Car_Make</th>\n",
       "      <th>Car_Model</th>\n",
       "    </tr>\n",
       "  </thead>\n",
       "  <tbody>\n",
       "    <tr>\n",
       "      <th>0</th>\n",
       "      <td>103138</td>\n",
       "      <td>37</td>\n",
       "      <td>65</td>\n",
       "      <td>brown</td>\n",
       "      <td>Blonde</td>\n",
       "      <td>Male</td>\n",
       "      <td>T6TV0T</td>\n",
       "      <td>Ford</td>\n",
       "      <td>Focus</td>\n",
       "    </tr>\n",
       "    <tr>\n",
       "      <th>1</th>\n",
       "      <td>103260</td>\n",
       "      <td>22</td>\n",
       "      <td>59</td>\n",
       "      <td>brown</td>\n",
       "      <td>Blonde</td>\n",
       "      <td>Female</td>\n",
       "      <td>G67F83</td>\n",
       "      <td>Ford</td>\n",
       "      <td>E250</td>\n",
       "    </tr>\n",
       "    <tr>\n",
       "      <th>2</th>\n",
       "      <td>108374</td>\n",
       "      <td>18</td>\n",
       "      <td>63</td>\n",
       "      <td>brown</td>\n",
       "      <td>Red</td>\n",
       "      <td>Male</td>\n",
       "      <td>X2KE6N</td>\n",
       "      <td>Ford</td>\n",
       "      <td>Escape</td>\n",
       "    </tr>\n",
       "    <tr>\n",
       "      <th>3</th>\n",
       "      <td>109238</td>\n",
       "      <td>35</td>\n",
       "      <td>76</td>\n",
       "      <td>brown</td>\n",
       "      <td>Brown</td>\n",
       "      <td>Female</td>\n",
       "      <td>O771Z2</td>\n",
       "      <td>Ford</td>\n",
       "      <td>F150</td>\n",
       "    </tr>\n",
       "    <tr>\n",
       "      <th>4</th>\n",
       "      <td>109596</td>\n",
       "      <td>30</td>\n",
       "      <td>75</td>\n",
       "      <td>brown</td>\n",
       "      <td>Red</td>\n",
       "      <td>Female</td>\n",
       "      <td>861GR4</td>\n",
       "      <td>Ford</td>\n",
       "      <td>Thunderbird</td>\n",
       "    </tr>\n",
       "    <tr>\n",
       "      <th>...</th>\n",
       "      <td>...</td>\n",
       "      <td>...</td>\n",
       "      <td>...</td>\n",
       "      <td>...</td>\n",
       "      <td>...</td>\n",
       "      <td>...</td>\n",
       "      <td>...</td>\n",
       "      <td>...</td>\n",
       "      <td>...</td>\n",
       "    </tr>\n",
       "    <tr>\n",
       "      <th>10002</th>\n",
       "      <td>959383</td>\n",
       "      <td>39</td>\n",
       "      <td>55</td>\n",
       "      <td>amber</td>\n",
       "      <td>Blue</td>\n",
       "      <td>Female</td>\n",
       "      <td>HJM7AH</td>\n",
       "      <td>Ford</td>\n",
       "      <td>Taurus</td>\n",
       "    </tr>\n",
       "    <tr>\n",
       "      <th>10003</th>\n",
       "      <td>960969</td>\n",
       "      <td>66</td>\n",
       "      <td>50</td>\n",
       "      <td>amber</td>\n",
       "      <td>White</td>\n",
       "      <td>Female</td>\n",
       "      <td>FN3TQ3</td>\n",
       "      <td>Ford</td>\n",
       "      <td>F-Series</td>\n",
       "    </tr>\n",
       "    <tr>\n",
       "      <th>10004</th>\n",
       "      <td>967386</td>\n",
       "      <td>21</td>\n",
       "      <td>59</td>\n",
       "      <td>amber</td>\n",
       "      <td>White</td>\n",
       "      <td>Female</td>\n",
       "      <td>0NBT4P</td>\n",
       "      <td>Ford</td>\n",
       "      <td>Windstar</td>\n",
       "    </tr>\n",
       "    <tr>\n",
       "      <th>10005</th>\n",
       "      <td>985357</td>\n",
       "      <td>84</td>\n",
       "      <td>80</td>\n",
       "      <td>amber</td>\n",
       "      <td>Green</td>\n",
       "      <td>Female</td>\n",
       "      <td>0T15Z5</td>\n",
       "      <td>Ford</td>\n",
       "      <td>Explorer Sport Trac</td>\n",
       "    </tr>\n",
       "    <tr>\n",
       "      <th>10006</th>\n",
       "      <td>995922</td>\n",
       "      <td>77</td>\n",
       "      <td>60</td>\n",
       "      <td>amber</td>\n",
       "      <td>Blue</td>\n",
       "      <td>Female</td>\n",
       "      <td>IS2LA5</td>\n",
       "      <td>Ford</td>\n",
       "      <td>Taurus</td>\n",
       "    </tr>\n",
       "  </tbody>\n",
       "</table>\n",
       "<p>10007 rows × 9 columns</p>\n",
       "</div>"
      ]
     },
     "execution_count": 278,
     "metadata": {},
     "output_type": "execute_result"
    }
   ],
   "execution_count": 278
  },
  {
   "metadata": {
    "ExecuteTime": {
     "end_time": "2024-06-05T18:33:33.428494Z",
     "start_time": "2024-06-05T18:33:33.419684Z"
    }
   },
   "cell_type": "code",
   "source": [
    "import pandas as pd\n",
    "\n",
    "# Supongamos que ya has cargado tu DataFrame en una variable llamada drivers_license\n",
    "\n",
    "# ID a buscar\n",
    "id_a_buscar = 423327\n",
    "\n",
    "# Buscar el ID específico en el DataFrame\n",
    "resultado = drivers_license.loc[drivers_license['Id'] == id_a_buscar]\n",
    "\n",
    "# Mostrar el resultado\n",
    "resultado\n"
   ],
   "outputs": [
    {
     "data": {
      "text/plain": [
       "         Id  Age  Height Eye_Color Hair_Color Gender Plate_Number   Car_Make  \\\n",
       "204  423327   30      70     brown      Brown   Male       0H42W2  Chevrolet   \n",
       "\n",
       "    Car_Model  \n",
       "204  Spark LS  "
      ],
      "text/html": [
       "<div>\n",
       "<style scoped>\n",
       "    .dataframe tbody tr th:only-of-type {\n",
       "        vertical-align: middle;\n",
       "    }\n",
       "\n",
       "    .dataframe tbody tr th {\n",
       "        vertical-align: top;\n",
       "    }\n",
       "\n",
       "    .dataframe thead th {\n",
       "        text-align: right;\n",
       "    }\n",
       "</style>\n",
       "<table border=\"1\" class=\"dataframe\">\n",
       "  <thead>\n",
       "    <tr style=\"text-align: right;\">\n",
       "      <th></th>\n",
       "      <th>Id</th>\n",
       "      <th>Age</th>\n",
       "      <th>Height</th>\n",
       "      <th>Eye_Color</th>\n",
       "      <th>Hair_Color</th>\n",
       "      <th>Gender</th>\n",
       "      <th>Plate_Number</th>\n",
       "      <th>Car_Make</th>\n",
       "      <th>Car_Model</th>\n",
       "    </tr>\n",
       "  </thead>\n",
       "  <tbody>\n",
       "    <tr>\n",
       "      <th>204</th>\n",
       "      <td>423327</td>\n",
       "      <td>30</td>\n",
       "      <td>70</td>\n",
       "      <td>brown</td>\n",
       "      <td>Brown</td>\n",
       "      <td>Male</td>\n",
       "      <td>0H42W2</td>\n",
       "      <td>Chevrolet</td>\n",
       "      <td>Spark LS</td>\n",
       "    </tr>\n",
       "  </tbody>\n",
       "</table>\n",
       "</div>"
      ]
     },
     "execution_count": 279,
     "metadata": {},
     "output_type": "execute_result"
    }
   ],
   "execution_count": 279
  },
  {
   "metadata": {
    "ExecuteTime": {
     "end_time": "2024-06-05T18:33:33.519358Z",
     "start_time": "2024-06-05T18:33:33.511994Z"
    }
   },
   "cell_type": "code",
   "source": [
    "\n",
    "\n",
    "# ID a buscar\n",
    "id_a_buscar = 173289\n",
    "\n",
    "# Buscar el ID específico en el DataFrame\n",
    "resultado = drivers_license.loc[drivers_license['Id'] == id_a_buscar]\n",
    "\n",
    "# Mostrar el resultado\n",
    "resultado\n"
   ],
   "outputs": [
    {
     "data": {
      "text/plain": [
       "Empty DataFrame\n",
       "Columns: [Id, Age, Height, Eye_Color, Hair_Color, Gender, Plate_Number, Car_Make, Car_Model]\n",
       "Index: []"
      ],
      "text/html": [
       "<div>\n",
       "<style scoped>\n",
       "    .dataframe tbody tr th:only-of-type {\n",
       "        vertical-align: middle;\n",
       "    }\n",
       "\n",
       "    .dataframe tbody tr th {\n",
       "        vertical-align: top;\n",
       "    }\n",
       "\n",
       "    .dataframe thead th {\n",
       "        text-align: right;\n",
       "    }\n",
       "</style>\n",
       "<table border=\"1\" class=\"dataframe\">\n",
       "  <thead>\n",
       "    <tr style=\"text-align: right;\">\n",
       "      <th></th>\n",
       "      <th>Id</th>\n",
       "      <th>Age</th>\n",
       "      <th>Height</th>\n",
       "      <th>Eye_Color</th>\n",
       "      <th>Hair_Color</th>\n",
       "      <th>Gender</th>\n",
       "      <th>Plate_Number</th>\n",
       "      <th>Car_Make</th>\n",
       "      <th>Car_Model</th>\n",
       "    </tr>\n",
       "  </thead>\n",
       "  <tbody>\n",
       "  </tbody>\n",
       "</table>\n",
       "</div>"
      ]
     },
     "execution_count": 280,
     "metadata": {},
     "output_type": "execute_result"
    }
   ],
   "execution_count": 280
  },
  {
   "cell_type": "markdown",
   "metadata": {},
   "source": [
    "]### Si crees que encontraste al asesino, ejecutá el siguiente codigo con el posible sospechoso\n",
    "Por favor, tene en cuenta que es recomendable no acceder al archivo \"asesino.py\" para evitar revelar detalles importantes de la caso. Si deseas disfrutar plenamente de la experiencia sin spoilers, te sugiero que evites examinar dicho archivo.\""
   ]
  },
  {
   "cell_type": "code",
   "metadata": {
    "ExecuteTime": {
     "end_time": "2024-06-05T18:34:26.016864Z",
     "start_time": "2024-06-05T18:34:26.012288Z"
    }
   },
   "source": [
    "from asesino import solucion\n",
    "solucion(\"Jeremy Bowers\")"
   ],
   "outputs": [
    {
     "name": "stdout",
     "output_type": "stream",
     "text": [
      "¡Felicidades, encontraste al asesino! Pero espera, hay más...\n",
      " Si crees que estas preparado para un desafío, segui investigando \n",
      " la transcripcion del asesino para encontrar al verdadero villano detrás de este crimen\n"
     ]
    }
   ],
   "execution_count": 282
  },
  {
   "metadata": {},
   "cell_type": "code",
   "outputs": [],
   "execution_count": null,
   "source": ""
  }
 ],
 "metadata": {
  "kernelspec": {
   "display_name": "Python 3",
   "language": "python",
   "name": "python3"
  },
  "language_info": {
   "codemirror_mode": {
    "name": "ipython",
    "version": 3
   },
   "file_extension": ".py",
   "mimetype": "text/x-python",
   "name": "python",
   "nbconvert_exporter": "python",
   "pygments_lexer": "ipython3",
   "version": "3.9.5"
  },
  "orig_nbformat": 4
 },
 "nbformat": 4,
 "nbformat_minor": 2
}
