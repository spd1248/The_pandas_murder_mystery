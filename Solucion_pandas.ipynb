{
 "cells": [
  {
   "cell_type": "markdown",
   "metadata": {},
   "source": [
    "\n",
    "# The Pandas Murder Mystery\n",
    "\n",
    "## Índice\n",
    "\n",
    "* [The Pandas Murder Mystery](#the-pandas-murder-mystery)\n",
    "* [Índice](#índice)\n",
    "* [Descripción del proyecto](#descripción-del-proyecto)\n",
    "* [Estado del proyecto](#estado-del-proyecto)\n",
    "* [Características de la aplicación y demostración](#características-de-la-aplicación-y-demostración)\n",
    "* [Acceso al proyecto](#acceso-al-proyecto)\n",
    "* [Tecnologías utilizadas](#tecnologías-utilizadas)\n",
    "* [Personas Desarrolladores del Proyecto](#personas-desarrolladores-del-proyecto)\n",
    "* [Licencia](#licencia)\n",
    "* [Conclusión](#conclusión)\n",
    "\n",
    "## Descripción del proyecto\n",
    "The Pandas Murder Mystery es una lección para aprender los conceptos y comandos de la librería Pandas en Python. El proyecto consiste en explorar la base de datos de un crimen y resolver el siguiente caso: \n",
    "\n",
    "\"Te entregaron el informe del lugar del crimen, pero de alguna manera lo perdiste. Recuerdas vagamente que el crimen fue un ​asesinato​ que ocurrió en algún momento el ​15 de enero de 2018​ y que tuvo lugar en ​Pandas City​.\"\n",
    "\n",
    "## Estado del proyecto\n",
    "El proyecto está terminado. \n",
    "\n",
    "## Características de la aplicación y demostración\n",
    "- **Exploración de Datos**: Análisis y limpieza de datos utilizando Pandas.\n",
    "- **Visualización de Datos**: Gráficos y visualizaciones para entender mejor el caso.\n",
    "- **Solución del Caso**: Aplicación de técnicas de análisis para resolver el misterio.\n",
    "- **Documentación Detallada**: Instrucciones y explicaciones detalladas para guiar a los usuarios a través del proyecto.\n",
    "\n",
    "## Documentación Detallada"
   ]
  },
  {
   "cell_type": "markdown",
   "metadata": {},
   "source": [
    "#### Python\n",
    "##### Paso 1: Buscar en crime_scene_report (DataFrame) el informe del asesinato ocurrido en Pandas City el 2018-01-15 "
   ]
  },
  {
   "cell_type": "code",
   "execution_count": null,
   "metadata": {},
   "outputs": [],
   "source": [
    "\n",
    "informe = crime_scene_report[(crime_scene_report[\"Date\"] == \"2018-01-15\") & \n",
    "                            (crime_scene_report[\"Type\"] == \"murder\") & \n",
    "                            (crime_scene_report[\"City\"] == \"Pandas City\")]\n",
    "informe\n",
    "\n",
    "# Reporte del crimen: \"Security footage shows that there were 2 witnesses. The first witness lives at the last house on \"Northwestern Dr\". The second witness, named Annabel, lives somewhere on \"Franklin Ave\".\"\n"
   ]
  },
  {
   "cell_type": "markdown",
   "metadata": {},
   "source": [
    "#### Paso 2: Buscar en person (DataFrame) los Person_Id de los dos testigos basándonos en la descripción del caso\n"
   ]
  },
  {
   "cell_type": "code",
   "execution_count": null,
   "metadata": {},
   "outputs": [],
   "source": [
    "##### El testigo1 vive en la última casa de \"Northwestern Dr\"\n",
    "personas_northwestern_dr = person[(person['Address_Street_Name'] == \"Northwestern Dr\")]\n",
    "indice_max_numero_direccion = personas_northwestern_dr['Address_Number'].idxmax()\n",
    "persona_ultima_casa = personas_northwestern_dr.loc[indice_max_numero_direccion]\n",
    "persona_ultima_casa\n",
    "\n",
    "# El testigo2 se llama Annabel y vive en \"Franklin Ave\"\n",
    "personas_franklin_ave = person[(person['Address_Street_Name'] == \"Franklin Ave\")]\n",
    "persona_annabel = personas_franklin_ave.loc[personas_franklin_ave['Name'].str.contains('Annabel')]\n",
    "persona_annabel\n",
    "\n"
   ]
  },
  {
   "cell_type": "markdown",
   "metadata": {},
   "source": [
    "#### Paso 3: Buscar en interview (DataFrame) los Person_Id identificados en el Paso 2"
   ]
  },
  {
   "cell_type": "code",
   "execution_count": null,
   "metadata": {},
   "outputs": [],
   "source": [
    "# El Person_Id del testigo1 es 14887\n",
    "entrevista_testigo1 = interview[(interview['Person_Id'] == 14887)]\n",
    "entrevista_testigo1\n",
    "\n",
    "# El Person_Id del testigo2 es 16371\n",
    "entrevista_testigo2 = interview[(interview['Person_Id'] == 16371)]\n",
    "entrevista_testigo2\n",
    "# Entrevistas:\n",
    "# Testigo1: \"I heard a gunshot and then saw a man run out. He had a \"Get Fit Now Gym\" bag. The membership number on the bag started with \"48Z\". Only gold members have those bags. The man got into a car with a plate that included \"H42W\".\"\n",
    "# Testigo2: \"I saw the murder happen, and I recognized the killer from my gym when I was working out last week on January the 9th.\""
   ]
  },
  {
   "cell_type": "markdown",
   "metadata": {},
   "source": [
    "Paso 4: Buscar en getfitnow_checkin (DataFrame) las personas que ingresaron al gimnasio el 2018-01-09"
   ]
  },
  {
   "cell_type": "code",
   "execution_count": null,
   "metadata": {},
   "outputs": [],
   "source": [
    "personas_ingreso_2018_01_09 = getfitnow_checkin[getfitnow_checkin['Check_In_Date'] == '2018-01-09']\n",
    "personas_ingreso_2018_01_09"
   ]
  },
  {
   "cell_type": "markdown",
   "metadata": {},
   "source": [
    "Paso 5: Buscar en personas_ingreso_2018_01_09 las Membership_Id que empiezan con '48Z'"
   ]
  },
  {
   "cell_type": "code",
   "execution_count": null,
   "metadata": {},
   "outputs": [],
   "source": [
    "miembros_48Z = personas_ingreso_2018_01_09[personas_ingreso_2018_01_09['Membership_Id'].str.startswith('48Z')]\n",
    "miembros_48Z"
   ]
  },
  {
   "cell_type": "markdown",
   "metadata": {},
   "source": [
    "Paso 6: Buscar en getfitnow_members (DataFrame) el id de las personas que aparecen en miembros_48Z"
   ]
  },
  {
   "cell_type": "code",
   "execution_count": null,
   "metadata": {},
   "outputs": [],
   "source": [
    "\n",
    "# id persona1\n",
    "id_persona1 = '48Z7A'\n",
    "persona1 = getfitnow_members[getfitnow_members['Id'] == id_persona1]\n",
    "persona1\n",
    "\n",
    "# id persona2\n",
    "id_persona2 = '48Z55'\n",
    "persona2 = getfitnow_members[getfitnow_members['Id'] == id_persona2]\n",
    "persona2\n",
    "\n",
    "\n"
   ]
  },
  {
   "cell_type": "markdown",
   "metadata": {},
   "source": [
    "Paso 7: Buscar en person (DataFrame) el nombre de la persona1 y la persona2"
   ]
  },
  {
   "cell_type": "code",
   "execution_count": null,
   "metadata": {},
   "outputs": [],
   "source": [
    "\n",
    "nombre_persona1 = 'Joe Germuska'\n",
    "fila_persona1 = person[person['Name'] == nombre_persona1]\n",
    "fila_persona1\n",
    "\n",
    "nombre_persona2 = 'Jeremy Bowers'\n",
    "fila_persona2 = person[person['Name'] == nombre_persona2]\n",
    "fila_persona2"
   ]
  },
  {
   "cell_type": "markdown",
   "metadata": {},
   "source": [
    "Paso 8: Buscar en drivers_license (DataFrame) los License_Id"
   ]
  },
  {
   "cell_type": "code",
   "execution_count": null,
   "metadata": {},
   "outputs": [],
   "source": [
    "\n",
    "license_id_persona1 = 173289\n",
    "fila_license_persona1 = drivers_license[drivers_license['Id'] == license_id_persona1]\n",
    "fila_license_persona1\n",
    "\n",
    "license_id_persona2 = 423327\n",
    "fila_license_persona2 = drivers_license[drivers_license['Id'] == license_id_persona2]\n",
    "fila_license_persona2\n",
    "# Verificar que la placa coincida con el testimonio del testigo: \"0H42W2\".\n"
   ]
  },
  {
   "cell_type": "markdown",
   "metadata": {},
   "source": [
    " Paso 9: Ejecutar el código siguiente con el sospechoso:\n"
   ]
  },
  {
   "cell_type": "code",
   "execution_count": null,
   "metadata": {},
   "outputs": [],
   "source": [
    "from asesino import solucion\n",
    "solucion(\"Jeremy Bowers\")"
   ]
  },
  {
   "cell_type": "markdown",
   "metadata": {},
   "source": [
    "# Respuesta: ¡Felicidades, encontraste al asesino! Pero espera, hay más... Si crees que estás preparado para un desafío, sigue investigando la transcripción del asesino para encontrar al verdadero villano detrás de este crimen."
   ]
  },
  {
   "cell_type": "markdown",
   "metadata": {},
   "source": [
    "#### Paso 10: Buscar en interview (DataFrame) el Person_Id de Jeremy Bowers y leer la transcripción de la entrevista"
   ]
  },
  {
   "cell_type": "code",
   "execution_count": null,
   "metadata": {},
   "outputs": [],
   "source": [
    "person_id_jeremy_bowers = 67318\n",
    "asesino = interview[interview['Person_Id'] == person_id_jeremy_bowers]\n",
    "asesino\n",
    "# Transcripción: \"I was hired by a woman with a lot of money. I don't know her name but I know \n",
    "## she's around 5'5\" (65\") or 5'7\" (67\"). She has red hair and she drives a Tesla Model S. I know \n",
    "### that she attended the SQL Symphony Concert 3 times in December 2017.\""
   ]
  },
  {
   "cell_type": "markdown",
   "metadata": {},
   "source": [
    "Paso 11: Definir variables que aparecen en la transcripción y buscar en drivers_license (DataFrame)"
   ]
  },
  {
   "cell_type": "code",
   "execution_count": null,
   "metadata": {},
   "outputs": [],
   "source": [
    "color = 'Red'\n",
    "marca_auto = 'Tesla'\n",
    "modelo_auto = 'Model S'\n",
    "actor_intelectual = drivers_license.loc[(drivers_license['Hair_Color'] == color) & \n",
    "                                        (drivers_license['Car_Make'] == marca_auto) & \n",
    "                                        (drivers_license['Car_Model'] == modelo_auto)]\n",
    "actor_intelectual"
   ]
  },
  {
   "cell_type": "markdown",
   "metadata": {},
   "source": [
    "Paso 12: Buscar el Id de una persona con una altura entre 65 y 67"
   ]
  },
  {
   "cell_type": "code",
   "execution_count": null,
   "metadata": {},
   "outputs": [],
   "source": [
    "resultado = actor_intelectual.loc[(actor_intelectual['Height'] >= 65) & \n",
    "                                  (actor_intelectual['Height'] <= 67)]\n",
    "resultado"
   ]
  },
  {
   "cell_type": "markdown",
   "metadata": {},
   "source": [
    " Paso 13: Cambiar el formato de la fecha en facebook_event_checkin (DataFrame)"
   ]
  },
  {
   "cell_type": "code",
   "execution_count": null,
   "metadata": {},
   "outputs": [],
   "source": [
    "facebook_event_checkin['date'] = pd.to_datetime(facebook_event_checkin['date'], format='%Y%m%d')\n",
    "facebook_event_checkin"
   ]
  },
  {
   "cell_type": "markdown",
   "metadata": {},
   "source": [
    "Paso 14: Definir las fechas como strings y convertirlas a datetime"
   ]
  },
  {
   "cell_type": "code",
   "execution_count": null,
   "metadata": {},
   "outputs": [],
   "source": [
    "fecha_min = \"2017-12-01\"\n",
    "fecha_max = \"2017-12-31\"\n",
    "fecha_min = pd.to_datetime(fecha_min)\n",
    "fecha_max = pd.to_datetime(fecha_max)\n",
    "rango_fecha = facebook_event_checkin.loc[\n",
    "    (facebook_event_checkin['date'] >= fecha_min) & \n",
    "    (facebook_event_checkin['date'] <= fecha_max)\n",
    "]\n",
    "rango_fecha"
   ]
  },
  {
   "cell_type": "markdown",
   "metadata": {},
   "source": [
    "Paso 15: Filtrar facebook_event_checkin (DataFrame) por rango de fechas y nombre del evento"
   ]
  },
  {
   "cell_type": "code",
   "execution_count": null,
   "metadata": {},
   "outputs": [],
   "source": [
    "evento_nombre = \"SQL Symphony Concert\"\n",
    "rango_fecha_evento = facebook_event_checkin.loc[\n",
    "    (facebook_event_checkin['date'] >= fecha_min) &\n",
    "    (facebook_event_checkin['date'] <= fecha_max) &\n",
    "    (facebook_event_checkin['event_name'].str.contains(evento_nombre))\n",
    "]\n",
    "rango_fecha_evento"
   ]
  },
  {
   "cell_type": "markdown",
   "metadata": {},
   "source": [
    "Paso 16: Identificar el person_id de las personas que hayan asistido 3 veces al evento 'SQL Symphony Concert'"
   ]
  },
  {
   "cell_type": "code",
   "execution_count": null,
   "metadata": {},
   "outputs": [],
   "source": [
    "conteo_person_id = rango_fecha_evento['person_id'].value_counts()\n",
    "conteo_person_id_3_veces = conteo_person_id.loc[conteo_person_id == 3\n",
    "\n",
    "]\n",
    "conteo_person_id_3_veces"
   ]
  },
  {
   "cell_type": "markdown",
   "metadata": {},
   "source": [
    " Paso 17: Buscar en person (DataFrame) el Id de la primera persona que aparece en conteo_person_id_3_veces"
   ]
  },
  {
   "cell_type": "code",
   "execution_count": null,
   "metadata": {},
   "outputs": [],
   "source": [
    "person_id_persona1 = 24556\n",
    "persona1 = person[person['Id'] == person_id_persona1]\n",
    "persona1"
   ]
  },
  {
   "cell_type": "markdown",
   "metadata": {},
   "source": [
    "Paso 18: Buscar en person (DataFrame) el Id de la segunda persona que aparece en conteo_person_id_3_veces"
   ]
  },
  {
   "cell_type": "code",
   "execution_count": null,
   "metadata": {},
   "outputs": [],
   "source": [
    "person_id_persona2 = 99716\n",
    "persona2 = person[person['Id'] == person_id_persona2]\n",
    "persona2"
   ]
  },
  {
   "cell_type": "markdown",
   "metadata": {},
   "source": [
    "Paso 19: Buscar en \"drivers_license (DataFrame) el Id de Miranda Priestly\" dado que la sospechosa es mujer para verificar que cumpla con la transcripción de la declaración del asesino: <br>\n",
    "\"I was hired by a woman with a lot of money. I don't know her name but I know she's around 5'5\" (65\") or 5'7\" (67\"). She has red hair and she drives a Tesla Model S. I know that she attended the SQL Symphony Concert 3 times in December 2017.\""
   ]
  },
  {
   "cell_type": "code",
   "execution_count": null,
   "metadata": {},
   "outputs": [],
   "source": [
    "license_id_persona2 = 202298\n",
    "licencia_persona2 = drivers_license[drivers_license['Id'] == license_id_persona2]\n",
    "licencia_persona2"
   ]
  },
  {
   "cell_type": "markdown",
   "metadata": {},
   "source": [
    "## Acceso al proyecto\n",
    "Puedes acceder al proyecto siguiendo estos pasos:"
   ]
  },
  {
   "cell_type": "markdown",
   "metadata": {},
   "source": [
    "1. Clonar el repositorio:"
   ]
  },
  {
   "cell_type": "code",
   "execution_count": null,
   "metadata": {},
   "outputs": [],
   "source": [
    "bash\n",
    "git clone https://github.com/spd1248/The_pandas_murder_mystery.git"
   ]
  },
  {
   "cell_type": "markdown",
   "metadata": {},
   "source": [
    "2. Navegar al directorio del proyecto:"
   ]
  },
  {
   "cell_type": "code",
   "execution_count": null,
   "metadata": {},
   "outputs": [],
   "source": [
    "bash\n",
    "   cd The_pandas_murder_mystery"
   ]
  },
  {
   "cell_type": "markdown",
   "metadata": {},
   "source": [
    "3. Instalar las dependencias necesarias:"
   ]
  },
  {
   "cell_type": "code",
   "execution_count": null,
   "metadata": {},
   "outputs": [],
   "source": [
    "bash\n",
    "   pip install -r requirements.txt"
   ]
  },
  {
   "cell_type": "markdown",
   "metadata": {},
   "source": [
    "4. Ejecutar el proyecto:"
   ]
  },
  {
   "cell_type": "code",
   "execution_count": null,
   "metadata": {},
   "outputs": [],
   "source": [
    "bash\n",
    "   python main.py"
   ]
  },
  {
   "cell_type": "markdown",
   "metadata": {},
   "source": [
    "El proyecto también está disponible en la siguiente URL: \n",
    "[https://github.com/spd1248/The_pandas_murder_mystery](https://github.com/spd1248/The_pandas_murder_mystery)\n",
    "\n",
    "### Tecnologías utilizadas\n",
    "El proyecto The Pandas Murder Mystery utiliza las siguientes tecnologías:\n",
    "\n",
    "- **Python**: Lenguaje de programación principal utilizado para desarrollar el proyecto.\n",
    "- **Pandas**: Librería de Python para manipulación y análisis de datos.\n",
    "- **Jupyter Notebook**: Entorno interactivo para la ejecución de código en Python y la visualización de resultados.\n",
    "\n",
    "## Personas Desarrolladores del Proyecto\n",
    "\n",
    "Este proyecto fue desarrollado por:\n",
    "\n",
    "- **Sergio Parada Dommarco** - [spd1248](https://github.com/spd1248)\n",
    "- **Alain Medel Mejía** - [PhDSchrodinger](https://github.com/PhDSchrodinger)\n",
    "- **Yesica Mendez Arocaz** - [YesikaMendez](https://github.com/YesikaMendez)\n",
    "- **Laura Sofia Rojas Muñoz** - [Sofirojas00](https://github.com/Sofirojas00)\n",
    "\n",
    "## Licencia\n",
    "Este proyecto está bajo la Licencia MIT. Para más detalles, consulta el archivo [LICENSE](LICENSE).\n",
    "\n",
    "## Conclusión\n",
    "El proyecto The Pandas Murder Mystery ha sido una buena oportunidad para aplicar la librería Pandas en Python. A través de la exploración, análisis y visualización de datos, hemos podido resolver un caso ficticio de asesinato.\n",
    "Esperamos que este proyecto sirva como una guía útil para aquellos que buscan aprender más sobre Pandas y su aplicación en el análisis de datos.  Tambien creo a servido para integrar y conocernos mas como miembros del grupo DSFT24 y descubrir que es posible colaborar tiempo real en linea. "
   ]
  }
 ],
 "metadata": {
  "kernelspec": {
   "display_name": "Python 3",
   "language": "python",
   "name": "python3"
  },
  "language_info": {
   "name": "python",
   "version": "3.11.1"
  }
 },
 "nbformat": 4,
 "nbformat_minor": 2
}
